{
 "cells": [
  {
   "cell_type": "code",
   "execution_count": null,
   "id": "82c20a0c",
   "metadata": {},
   "outputs": [],
   "source": [
    "data = [0]*20\n",
    "for i in range(20):\n",
    "  if (i+1)%3 ==0:\n",
    "    data[i]=\"multiple of 3\"\n",
    "  else:\n",
    "    data[i]=i+1\n",
    "print(data)"
   ]
  }
 ],
 "metadata": {
  "language_info": {
   "name": "python"
  }
 },
 "nbformat": 4,
 "nbformat_minor": 5
}
